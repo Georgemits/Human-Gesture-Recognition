{
 "cells": [
  {
   "cell_type": "markdown",
   "id": "0733b351",
   "metadata": {},
   "source": [
    "# AIoT Project"
   ]
  },
  {
   "cell_type": "code",
   "execution_count": null,
   "id": "4455947d",
   "metadata": {},
   "outputs": [],
   "source": [
    "import os\n",
    "\n",
    "# basic data engineering\n",
    "import pandas as pd\n",
    "import numpy as np\n",
    "import scipy\n",
    "\n",
    "# plotting\n",
    "import matplotlib.pyplot as plt\n",
    "import seaborn as sns\n",
    "\n",
    "# db\n",
    "import pymongo\n",
    "\n",
    "# configs & other\n",
    "import yaml\n",
    "from tqdm.notebook import tqdm_notebook\n",
    "from datetime import datetime\n",
    "from time import time\n",
    "\n",
    "from psynlig import pca_explained_variance_bar\n",
    "\n",
    "# utils processing\n",
    "from utils import sliding_window_pd\n",
    "from utils import apply_filter\n",
    "from utils import filter_instances\n",
    "from utils import flatten_instances_df\n",
    "from utils import df_rebase\n",
    "from utils import rename_df_column_values\n",
    "from utils import encode_labels\n",
    "\n",
    "# utils visualization\n",
    "from utils_visual import plot_instance_time_domain\n",
    "from utils_visual import plot_instance_3d\n",
    "from utils_visual import plot_np_instance\n",
    "from utils_visual import plot_heatmap\n",
    "from utils_visual import plot_scatter_pca\n",
    "\n",
    "%load_ext autoreload\n",
    "%autoreload 2"
   ]
  },
  {
   "cell_type": "markdown",
   "id": "07adb678",
   "metadata": {},
   "source": [
    "Start time of execution"
   ]
  },
  {
   "cell_type": "code",
   "execution_count": null,
   "id": "717559c4",
   "metadata": {},
   "outputs": [],
   "source": [
    "time_start = time()"
   ]
  },
  {
   "cell_type": "markdown",
   "id": "34b96e6f",
   "metadata": {},
   "source": [
    "## Load configuration"
   ]
  },
  {
   "cell_type": "code",
   "execution_count": null,
   "id": "982eac13",
   "metadata": {},
   "outputs": [],
   "source": [
    "config_path = os.path.join(os.getcwd(), \"config.yml\")\n",
    "\n",
    "with open(config_path) as file:\n",
    "    config = yaml.load(file, Loader=yaml.FullLoader)"
   ]
  },
  {
   "cell_type": "code",
   "execution_count": null,
   "id": "bfce0bca",
   "metadata": {},
   "outputs": [],
   "source": [
    "client = pymongo.MongoClient(config[\"client\"])"
   ]
  },
  {
   "cell_type": "code",
   "execution_count": null,
   "id": "dc950bbb",
   "metadata": {},
   "outputs": [],
   "source": [
    "db = client[config[\"db\"]]\n",
    "coll = db[config[\"col\"]]"
   ]
  },
  {
   "cell_type": "code",
   "execution_count": null,
   "id": "2221ec1a",
   "metadata": {},
   "outputs": [],
   "source": [
    "found_keys = coll.distinct(\"label\")\n",
    "print(\"Existing DB keys:\", found_keys)"
   ]
  },
  {
   "cell_type": "markdown",
   "id": "5ec8a14fb09ceb54",
   "metadata": {},
   "source": [
    "## Load data"
   ]
  },
  {
   "cell_type": "code",
   "execution_count": null,
   "id": "57660bfab164090c",
   "metadata": {},
   "outputs": [],
   "source": [
    "documents = list(coll.find())\n",
    "dfs = []"
   ]
  },
  {
   "cell_type": "code",
   "execution_count": null,
   "id": "28dda3c64619c719",
   "metadata": {},
   "outputs": [],
   "source": [
    "for document in documents:\n",
    "    df_doc = pd.DataFrame(document[\"data\"])\n",
    "    df_doc[\"label\"] = document[\"label\"]\n",
    "    dfs.append(df_doc)"
   ]
  },
  {
   "cell_type": "markdown",
   "id": "78074c4a48fc57c4",
   "metadata": {},
   "source": [
    "## Explore the nature of the data"
   ]
  },
  {
   "cell_type": "code",
   "execution_count": null,
   "id": "3e90f7f1182d6948",
   "metadata": {},
   "outputs": [],
   "source": [
    "df = pd.concat(dfs, ignore_index=True)"
   ]
  },
  {
   "cell_type": "code",
   "execution_count": null,
   "id": "e34ae894235198c",
   "metadata": {},
   "outputs": [],
   "source": [
    "order_list = list(documents[0]['data'].keys()) + ['label']\n",
    "ref_list = order_list.copy()\n",
    "\n",
    "df = df_rebase(df, order_list, ref_list)"
   ]
  },
  {
   "cell_type": "markdown",
   "id": "0c2b7f9c",
   "metadata": {},
   "source": [
    "## Apply filter"
   ]
  },
  {
   "cell_type": "code",
   "execution_count": null,
   "id": "f73e077d",
   "metadata": {},
   "outputs": [],
   "source": [
    "signal_columns = [\"acc_x\", \"acc_y\", \"acc_z\", \"gyro_x\", \"gyro_y\", \"gyro_z\"]\n",
    "\n",
    "X = df[signal_columns].to_numpy()\n",
    "\n",
    "df[signal_columns]= apply_filter(X, order=4, wn=0.1, filter_type=\"lowpass\")"
   ]
  },
  {
   "cell_type": "markdown",
   "id": "174424cd",
   "metadata": {},
   "source": [
    "## Transform the list of DataFrames to NumPy array\n",
    "\n",
    "Transform the list of DataFrames to NumPy array that contains the windows: (instances, x, y)"
   ]
  },
  {
   "cell_type": "code",
   "execution_count": null,
   "id": "741fe8b6",
   "metadata": {},
   "outputs": [],
   "source": [
    "windows = sliding_window_pd(df, ws=20, overlap=20)"
   ]
  },
  {
   "cell_type": "code",
   "execution_count": null,
   "id": "f5d953a9",
   "metadata": {},
   "outputs": [],
   "source": [
    "window_labels = []\n",
    "\n",
    "for window in windows:\n",
    "   \n",
    "    labels_in_window = window[\"label\"].values\n",
    "    \n",
    "    unique, counts = np.unique(labels_in_window, return_counts=True)\n",
    "    majority_label = unique[np.argmax(counts)]\n",
    "    window_labels.append(majority_label)"
   ]
  },
  {
   "cell_type": "code",
   "execution_count": null,
   "id": "927ec345",
   "metadata": {},
   "outputs": [],
   "source": [
    "signal_only_windows = [w[signal_columns] for w in windows]\n",
    "filtered_signal_only = filter_instances(signal_only_windows, order=4, wn=0.1, filter_type=\"lowpass\")"
   ]
  },
  {
   "cell_type": "markdown",
   "id": "9587c7d9",
   "metadata": {},
   "source": [
    "## Flatten the 2D window instances\n",
    "\n",
    "Flatten the X NumPy array that contains the 2D window instances"
   ]
  },
  {
   "cell_type": "code",
   "execution_count": null,
   "id": "c49d38ed",
   "metadata": {},
   "outputs": [],
   "source": [
    "flattened_df = flatten_instances_df(filtered_signal_only)\n",
    "print(flattened_df)"
   ]
  },
  {
   "cell_type": "code",
   "execution_count": null,
   "id": "46b235c8",
   "metadata": {},
   "outputs": [],
   "source": [
    "y = df[\"label\"]\n",
    "final_df = rename_df_column_values(flattened_df.to_numpy(), window_labels, flattened_df.columns.tolist())\n",
    "print(final_df.iloc[:, -1].unique())\n",
    "\n",
    "X= final_df.iloc[:, :-1]\n",
    "y= final_df.iloc[:, -1]"
   ]
  },
  {
   "cell_type": "markdown",
   "id": "41620e98",
   "metadata": {},
   "source": [
    "## Train/Test split"
   ]
  },
  {
   "cell_type": "code",
   "execution_count": null,
   "id": "1d592023",
   "metadata": {},
   "outputs": [],
   "source": [
    "from sklearn.model_selection import train_test_split"
   ]
  },
  {
   "cell_type": "code",
   "execution_count": null,
   "id": "b2b23d31",
   "metadata": {},
   "outputs": [],
   "source": [
    "X_train, X_test, y_train, y_test = train_test_split(X, y, test_size=0.20, shuffle=True, random_state=42)"
   ]
  },
  {
   "cell_type": "markdown",
   "id": "a3b6aded",
   "metadata": {},
   "source": [
    "## Scaling"
   ]
  },
  {
   "cell_type": "code",
   "execution_count": null,
   "id": "b12737cf",
   "metadata": {},
   "outputs": [],
   "source": [
    "from sklearn.preprocessing import StandardScaler, MinMaxScaler"
   ]
  },
  {
   "cell_type": "code",
   "execution_count": null,
   "id": "7d3d85a8",
   "metadata": {},
   "outputs": [],
   "source": [
    "scaler = MinMaxScaler()"
   ]
  },
  {
   "cell_type": "markdown",
   "id": "bb41accf",
   "metadata": {},
   "source": [
    "## Transform to 2D again"
   ]
  },
  {
   "cell_type": "code",
   "execution_count": null,
   "id": "4f05b274",
   "metadata": {},
   "outputs": [],
   "source": [
    "X_train_scaled = scaler.fit_transform(X_train)\n",
    "X_test_scaled = scaler.transform(X_test)"
   ]
  },
  {
   "cell_type": "markdown",
   "id": "24207b2c",
   "metadata": {},
   "source": [
    "## Dimensionality Reduction with PCA using the 1D (flattened) data"
   ]
  },
  {
   "cell_type": "code",
   "execution_count": null,
   "id": "c0c8c60a",
   "metadata": {},
   "outputs": [],
   "source": [
    "# add transformers\n",
    "from sklearn.decomposition import PCA"
   ]
  },
  {
   "cell_type": "markdown",
   "id": "8dd95258",
   "metadata": {},
   "source": [
    "### PCA with 2 Components"
   ]
  },
  {
   "cell_type": "markdown",
   "id": "91e107a4",
   "metadata": {},
   "source": [
    "### PCA with 3 Components"
   ]
  },
  {
   "cell_type": "code",
   "execution_count": null,
   "id": "4780c0d0",
   "metadata": {},
   "outputs": [],
   "source": [
    "pca2d = PCA(n_components=3)  # for 3D visualization\n",
    "pca2d.fit(X_train_scaled)"
   ]
  },
  {
   "cell_type": "code",
   "execution_count": null,
   "id": "f8343465",
   "metadata": {},
   "outputs": [],
   "source": [
    "X_train_pca = pca2d.transform(X_train_scaled)\n",
    "X_test_pca = pca2d.transform(X_test_scaled)"
   ]
  },
  {
   "cell_type": "markdown",
   "id": "87e8d62f",
   "metadata": {},
   "source": [
    "### PCA with X% of the variance of the dataset, for training the statistical AI Models"
   ]
  },
  {
   "cell_type": "code",
   "execution_count": null,
   "id": "743bcd58",
   "metadata": {},
   "outputs": [],
   "source": [
    "pca_explained_variance_bar(pca2d, alpha=0.8)\n",
    "\n",
    "X_train_pca_df = pd.DataFrame(X_train_pca, columns=[\"PC1\", \"PC2\", \"PC3\"])\n",
    "X_train_pca_df[\"label\"] = y_train.reset_index(drop=True)\n",
    "\n",
    "plot_scatter_pca(X_train_pca_df, c_name=\"label\")"
   ]
  },
  {
   "cell_type": "markdown",
   "id": "de03fd48",
   "metadata": {},
   "source": [
    "## Classifier - Statistical Learning"
   ]
  },
  {
   "cell_type": "code",
   "execution_count": null,
   "id": "8846c809",
   "metadata": {},
   "outputs": [],
   "source": [
    "from sklearn.svm import SVC\n",
    "from sklearn.ensemble import RandomForestClassifier"
   ]
  },
  {
   "cell_type": "code",
   "execution_count": null,
   "id": "c599deb1",
   "metadata": {},
   "outputs": [],
   "source": [
    "y_train=encode_labels(y_train)\n",
    "y_test =encode_labels(y_test)"
   ]
  },
  {
   "cell_type": "markdown",
   "id": "7cd91783",
   "metadata": {},
   "source": [
    "### Apply SVC Classifier"
   ]
  },
  {
   "cell_type": "code",
   "execution_count": null,
   "id": "fc297efb",
   "metadata": {},
   "outputs": [],
   "source": [
    "svc = SVC(kernel='rbf', C=1, gamma='scale')\n",
    "\n",
    "svc.fit(X_train_pca, y_train)\n",
    "y_pred_svc = svc.predict(X_test_pca)"
   ]
  },
  {
   "cell_type": "markdown",
   "id": "e2b4b498",
   "metadata": {},
   "source": [
    "### Evaluate simple classifier - SVC Classifier"
   ]
  },
  {
   "cell_type": "code",
   "execution_count": null,
   "id": "ce02a18e",
   "metadata": {},
   "outputs": [],
   "source": [
    "from sklearn.metrics import confusion_matrix, ConfusionMatrixDisplay"
   ]
  },
  {
   "cell_type": "code",
   "execution_count": null,
   "id": "11536a59",
   "metadata": {},
   "outputs": [],
   "source": [
    "from sklearn.metrics import classification_report"
   ]
  },
  {
   "cell_type": "code",
   "execution_count": null,
   "id": "adab0576",
   "metadata": {},
   "outputs": [],
   "source": [
    "print(\"=== SVC Classification Report ===\")\n",
    "print(classification_report(y_test, y_pred_svc))\n",
    "\n",
    "cm_svc = confusion_matrix(y_test, y_pred_svc, labels=svc.classes_)\n",
    "disp_svc = ConfusionMatrixDisplay(confusion_matrix=cm_svc, display_labels=svc.classes_)\n",
    "disp_svc.plot()\n",
    "plt.title(\"SVC Confusion Matrix\")\n",
    "plt.show()"
   ]
  },
  {
   "cell_type": "markdown",
   "id": "bd609092",
   "metadata": {},
   "source": [
    "###  Apply Random Forest Classifier "
   ]
  },
  {
   "cell_type": "code",
   "execution_count": null,
   "id": "7c154a22",
   "metadata": {},
   "outputs": [],
   "source": [
    "rf = RandomForestClassifier(n_estimators=100, random_state=42)\n",
    "rf.fit(X_train_pca, y_train)\n",
    "y_pred_rf = rf.predict(X_test_pca)"
   ]
  },
  {
   "cell_type": "markdown",
   "id": "e9d38a83",
   "metadata": {},
   "source": [
    "### Evaluate RandomForestClassifier"
   ]
  },
  {
   "cell_type": "code",
   "execution_count": null,
   "id": "32d5a14c",
   "metadata": {},
   "outputs": [],
   "source": [
    "print(\"=== Random Forest Classification Report ===\")\n",
    "print(classification_report(y_test, y_pred_rf))\n",
    "\n",
    "cm_rf = confusion_matrix(y_test, y_pred_rf, labels=rf.classes_)\n",
    "disp_rf = ConfusionMatrixDisplay(confusion_matrix=cm_rf, display_labels=rf.classes_)\n",
    "disp_rf.plot()\n",
    "plt.title(\"Random Forest Confusion Matrix\")\n",
    "plt.show()"
   ]
  },
  {
   "cell_type": "markdown",
   "id": "ee969415",
   "metadata": {},
   "source": [
    "### Apply optimization with Grid Search and Cross-validation"
   ]
  },
  {
   "cell_type": "code",
   "execution_count": null,
   "id": "e9a3c651",
   "metadata": {},
   "outputs": [],
   "source": [
    "from sklearn.svm import SVC\n",
    "from sklearn.model_selection import GridSearchCV"
   ]
  },
  {
   "cell_type": "code",
   "execution_count": null,
   "id": "ba17bf58",
   "metadata": {},
   "outputs": [],
   "source": [
    "param_grid = {\n",
    "    'C': [0.1, 1, 10],\n",
    "    'gamma': ['scale', 0.01, 0.1, 1],\n",
    "    'kernel': ['rbf']\n",
    "}"
   ]
  },
  {
   "cell_type": "code",
   "execution_count": null,
   "id": "da988d2d",
   "metadata": {},
   "outputs": [],
   "source": [
    "grid_search = GridSearchCV(SVC(), param_grid, cv=3, verbose=1, n_jobs=-1)\n",
    "grid_search.fit(X_train_pca, y_train)\n",
    "\n",
    "print(\"=== Best parameters from GridSearchCV ===\")\n",
    "print(grid_search.best_params_)"
   ]
  },
  {
   "cell_type": "markdown",
   "id": "0b1db5c5",
   "metadata": {},
   "source": [
    "### Evaluate optimized classifier"
   ]
  },
  {
   "cell_type": "code",
   "execution_count": null,
   "id": "9e11ff71",
   "metadata": {},
   "outputs": [],
   "source": [
    "best_svc = grid_search.best_estimator_\n",
    "y_pred_best_svc = best_svc.predict(X_test_pca)\n",
    "\n",
    "print(\"=== Best SVC Classification Report ===\")\n",
    "print(classification_report(y_test, y_pred_best_svc))\n",
    "\n",
    "cm_best = confusion_matrix(y_test, y_pred_best_svc, labels=best_svc.classes_)\n",
    "disp_best = ConfusionMatrixDisplay(confusion_matrix=cm_best, display_labels=best_svc.classes_)\n",
    "disp_best.plot()\n",
    "plt.title(\"Best SVC (GridSearch) Confusion Matrix\")\n",
    "plt.show()\n"
   ]
  },
  {
   "cell_type": "markdown",
   "id": "95ada6c9",
   "metadata": {},
   "source": [
    "## Classifier - Neural Network"
   ]
  },
  {
   "cell_type": "code",
   "execution_count": null,
   "id": "63cd8abe",
   "metadata": {},
   "outputs": [],
   "source": [
    "import tensorflow as tf\n",
    "from tensorflow.keras import Sequential\n",
    "from tensorflow.keras.layers import Conv1D, MaxPooling1D, Dense, Dropout, Flatten"
   ]
  },
  {
   "cell_type": "code",
   "execution_count": null,
   "id": "983c3269",
   "metadata": {},
   "outputs": [],
   "source": [
    "input_data_shape = X_train_2d[0].shape\n",
    "print(\"Type of the input shape object:\", type(input_data_shape))\n",
    "X_train_2d[0].shape"
   ]
  },
  {
   "cell_type": "code",
   "execution_count": null,
   "id": "44bb9bab",
   "metadata": {},
   "outputs": [],
   "source": [
    "y_np_array = np.array(y)\n",
    "n_outputs = len(np.unique(y_np_array))\n",
    "print(\"Number of outputs (classes) the model to predict:\", n_outputs)"
   ]
  },
  {
   "cell_type": "markdown",
   "id": "85b5be53",
   "metadata": {},
   "source": [
    "### Create the Neural Network (NN) Architecture and instantiate the model"
   ]
  },
  {
   "cell_type": "code",
   "execution_count": null,
   "id": "d2ca897e",
   "metadata": {},
   "outputs": [],
   "source": [
    "model = Sequential()\n",
    "\n",
    "\"\"\"\n",
    "BUILD YOUR MODEL ARCHITECTURE HERE\n",
    "\"\"\"\n",
    "\n",
    "model.add(Dense(n_outputs, activation=\"softmax\"))"
   ]
  },
  {
   "cell_type": "markdown",
   "id": "5d086695",
   "metadata": {},
   "source": [
    "Plot the Architecture of ot the TensorFlow model"
   ]
  },
  {
   "cell_type": "code",
   "execution_count": null,
   "id": "ce534b3e",
   "metadata": {},
   "outputs": [],
   "source": []
  },
  {
   "cell_type": "markdown",
   "id": "cbb3c78a",
   "metadata": {},
   "source": [
    "Plot the summary of the TensorFlow model"
   ]
  },
  {
   "cell_type": "code",
   "execution_count": null,
   "id": "10a1370a",
   "metadata": {},
   "outputs": [],
   "source": []
  },
  {
   "cell_type": "markdown",
   "id": "5ffb0f58",
   "metadata": {},
   "source": [
    "### Build the NN model"
   ]
  },
  {
   "cell_type": "code",
   "execution_count": null,
   "id": "62ec9310",
   "metadata": {},
   "outputs": [],
   "source": [
    "model.compile(loss=\"sparse_categorical_crossentropy\", optimizer=\"adam\", metrics=[\"ADD METRIC\"])"
   ]
  },
  {
   "cell_type": "code",
   "execution_count": null,
   "id": "31a646d6",
   "metadata": {},
   "outputs": [],
   "source": [
    "from utils import encode_labels"
   ]
  },
  {
   "cell_type": "code",
   "execution_count": null,
   "id": "7f39477f",
   "metadata": {},
   "outputs": [],
   "source": []
  },
  {
   "cell_type": "markdown",
   "id": "105b799d",
   "metadata": {},
   "source": [
    "### Train the NN model"
   ]
  },
  {
   "cell_type": "code",
   "execution_count": null,
   "id": "595a3664",
   "metadata": {},
   "outputs": [],
   "source": []
  },
  {
   "cell_type": "markdown",
   "id": "ee61e2f4",
   "metadata": {},
   "source": [
    "### Evaluate the model on the test data"
   ]
  },
  {
   "cell_type": "code",
   "execution_count": null,
   "id": "ddec8b5b",
   "metadata": {},
   "outputs": [],
   "source": []
  },
  {
   "cell_type": "markdown",
   "id": "46cf5b35",
   "metadata": {},
   "source": [
    "### Plot and interpret the learning curves: Loss and Accuracy based on the training and validation sets"
   ]
  },
  {
   "cell_type": "code",
   "execution_count": null,
   "id": "df775152",
   "metadata": {},
   "outputs": [],
   "source": []
  },
  {
   "cell_type": "code",
   "execution_count": null,
   "id": "a0e06c98",
   "metadata": {},
   "outputs": [],
   "source": []
  }
 ],
 "metadata": {
  "kernelspec": {
   "display_name": "Python 3 (ipykernel)",
   "language": "python",
   "name": "python3"
  },
  "language_info": {
   "codemirror_mode": {
    "name": "ipython",
    "version": 3
   },
   "file_extension": ".py",
   "mimetype": "text/x-python",
   "name": "python",
   "nbconvert_exporter": "python",
   "pygments_lexer": "ipython3",
   "version": "3.9.16"
  }
 },
 "nbformat": 4,
 "nbformat_minor": 5
}
